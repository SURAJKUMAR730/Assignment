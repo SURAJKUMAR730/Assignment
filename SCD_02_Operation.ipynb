{
 "cells": [
  {
   "cell_type": "markdown",
   "metadata": {
    "application/vnd.databricks.v1+cell": {
     "cellMetadata": {
      "byteLimit": 2048000,
      "rowLimit": 10000
     },
     "inputWidgets": {},
     "nuid": "83901e1b-71ab-49c2-932a-c20e80ef0e7e",
     "showTitle": false,
     "tableResultSettingsMap": {},
     "title": ""
    }
   },
   "source": [
    "###**Creating Schema**\n",
    "Creating Source and Target Schemas in Spark SQL"
   ]
  },
  {
   "cell_type": "code",
   "execution_count": 0,
   "metadata": {
    "application/vnd.databricks.v1+cell": {
     "cellMetadata": {
      "byteLimit": 2048000,
      "rowLimit": 10000
     },
     "inputWidgets": {},
     "nuid": "d2e8ea59-d74f-4f8e-81bf-2b7f1ee17f99",
     "showTitle": false,
     "tableResultSettingsMap": {},
     "title": ""
    }
   },
   "outputs": [
    {
     "output_type": "execute_result",
     "data": {
      "text/plain": [
       "DataFrame[]"
      ]
     },
     "execution_count": 3,
     "metadata": {},
     "output_type": "execute_result"
    }
   ],
   "source": [
    "spark.sql(\"CREATE SCHEMA IF NOT EXISTS workspace.source\")  # Create source schema if it doesn't exist\n",
    "spark.sql(\"CREATE SCHEMA IF NOT EXISTS workspace.target\")  # Create target schema if it doesn't exist"
   ]
  },
  {
   "cell_type": "markdown",
   "metadata": {
    "application/vnd.databricks.v1+cell": {
     "cellMetadata": {
      "byteLimit": 2048000,
      "rowLimit": 10000
     },
     "inputWidgets": {},
     "nuid": "1985a59a-e643-4d30-a761-772c5d3a183c",
     "showTitle": false,
     "tableResultSettingsMap": {},
     "title": ""
    }
   },
   "source": [
    "### **Loading and Saving sales2 Data Table**\n",
    "Read from AccuWeather Source and Overwrite to Workspace Source Schema"
   ]
  },
  {
   "cell_type": "code",
   "execution_count": 0,
   "metadata": {
    "application/vnd.databricks.v1+cell": {
     "cellMetadata": {
      "byteLimit": 2048000,
      "rowLimit": 10000
     },
     "inputWidgets": {},
     "nuid": "3257ee0d-8d55-4011-967f-1cc1ecb9ba4d",
     "showTitle": false,
     "tableResultSettingsMap": {},
     "title": ""
    }
   },
   "outputs": [],
   "source": [
    "sales2 = spark.sql(\"select * from samples.bakehouse.sales_suppliers\")\n",
    "sales2.write.mode(\"overwrite\").saveAsTable(\"workspace.source.sales2\")"
   ]
  },
  {
   "cell_type": "markdown",
   "metadata": {
    "application/vnd.databricks.v1+cell": {
     "cellMetadata": {
      "byteLimit": 2048000,
      "rowLimit": 10000
     },
     "inputWidgets": {},
     "nuid": "bc28d982-5fe2-4982-972b-77600c00773c",
     "showTitle": false,
     "tableResultSettingsMap": {},
     "title": ""
    }
   },
   "source": [
    "### **Read and Display SCD1 Source Table**\n",
    "Load Data from workspace.source.scd1 and Visualize Contents"
   ]
  },
  {
   "cell_type": "code",
   "execution_count": 0,
   "metadata": {
    "application/vnd.databricks.v1+cell": {
     "cellMetadata": {
      "byteLimit": 2048000,
      "rowLimit": 10000
     },
     "inputWidgets": {},
     "nuid": "d80f124e-1211-419c-912f-4f3e2e670cc7",
     "showTitle": false,
     "tableResultSettingsMap": {},
     "title": ""
    }
   },
   "outputs": [],
   "source": [
    "source = spark.read.table('workspace.source.sales2')\n",
    "source.display()"
   ]
  },
  {
   "cell_type": "markdown",
   "metadata": {
    "application/vnd.databricks.v1+cell": {
     "cellMetadata": {
      "byteLimit": 2048000,
      "rowLimit": 10000
     },
     "inputWidgets": {},
     "nuid": "22aac742-e631-4dfd-8acc-ea9e460d2a2e",
     "showTitle": false,
     "tableResultSettingsMap": {},
     "title": ""
    }
   },
   "source": [
    "### Generate Row-Level Hash Using SHA-256\n",
    "Create RowHash from Concatenated Values and Drop ConCatValue"
   ]
  },
  {
   "cell_type": "code",
   "execution_count": 0,
   "metadata": {
    "application/vnd.databricks.v1+cell": {
     "cellMetadata": {
      "byteLimit": 2048000,
      "rowLimit": 10000
     },
     "inputWidgets": {},
     "nuid": "381b8a6d-710e-401c-9e1f-906b8e861e88",
     "showTitle": false,
     "tableResultSettingsMap": {},
     "title": ""
    }
   },
   "outputs": [],
   "source": [
    "# Create a hash key by concatenating all columns into a single string column 'RowHash'\n",
    "from pyspark.sql import functions as F\n",
    "\n",
    "# Concatenate all columns in 'source' DataFrame into 'RowHash'\n",
    "source = source.withColumn('RowHash', F.sha2(F.concat_ws('', *source.columns), 256))"
   ]
  },
  {
   "cell_type": "code",
   "execution_count": 0,
   "metadata": {
    "application/vnd.databricks.v1+cell": {
     "cellMetadata": {
      "byteLimit": 2048000,
      "rowLimit": 10000
     },
     "inputWidgets": {},
     "nuid": "a78b6d50-945d-462e-ab38-2f84a22e8baf",
     "showTitle": false,
     "tableResultSettingsMap": {},
     "title": ""
    }
   },
   "outputs": [
    {
     "output_type": "display_data",
     "data": {
      "text/html": [
       "<style scoped>\n",
       "  .table-result-container {\n",
       "    max-height: 300px;\n",
       "    overflow: auto;\n",
       "  }\n",
       "  table, th, td {\n",
       "    border: 1px solid black;\n",
       "    border-collapse: collapse;\n",
       "  }\n",
       "  th, td {\n",
       "    padding: 5px;\n",
       "  }\n",
       "  th {\n",
       "    text-align: left;\n",
       "  }\n",
       "</style><div class='table-result-container'><table class='table-result'><thead style='background-color: white'><tr><th>supplierID</th><th>name</th><th>ingredient</th><th>continent</th><th>city</th><th>district</th><th>size</th><th>longitude</th><th>latitude</th><th>approved</th><th>RowHash</th></tr></thead><tbody><tr><td>4000000</td><td>Cacao Wonders</td><td>cacao</td><td>South America</td><td>Guayaquil</td><td>Las Peñas</td><td>M</td><td>-79.8974</td><td>-2.1791</td><td>Y</td><td>19e37f9076246ae6ffb69e9be7ed2073d94656fb55aadc78ee09807ffd86ff36</td></tr><tr><td>4000001</td><td>Coconut Grove</td><td>coconut</td><td>Asia</td><td>Manila</td><td>Intramuros</td><td>S</td><td>121.0221</td><td>14.6042</td><td>Y</td><td>dd8379700727ada5448616395cee167291078ba63a10ae62f20ea3708b19004a</td></tr><tr><td>4000002</td><td>Almond Delights</td><td>almonds</td><td>Europe</td><td>Valencia</td><td>Ruzafa</td><td>L</td><td>-0.3762</td><td>39.4699</td><td>Y</td><td>2618ef1944d020b72ae94ce0343b054c4818855400650829c903c0a0bec5004c</td></tr><tr><td>4000003</td><td>Sugar Cane Harvest</td><td>cane sugar</td><td>South America</td><td>Sao Paulo</td><td>Vila Madalena</td><td>XL</td><td>-46.6333</td><td>-23.5489</td><td>Y</td><td>98327b4f32a42f832fa286d6fd6c96ba0734010fc2fdb4cb3ac62aa321f2b06c</td></tr><tr><td>4000004</td><td>Vanilla Valley</td><td>vanilla</td><td>North America</td><td>Mexico City</td><td>Roma Norte</td><td>M</td><td>-99.1332</td><td>19.4326</td><td>Y</td><td>e6d6a60d578c4b2907df80d8b136e67370b976e9a0754f68a4dd914058b61839</td></tr><tr><td>4000005</td><td>Pecan Pleasures</td><td>pecans</td><td>North America</td><td>Atlanta</td><td>Virginia-Highland</td><td>S</td><td>-84.3888</td><td>33.749</td><td>Y</td><td>eb24f9d60f76123cd4744b9bff18c66b5c1babd2a3950faef75a353837c96dd0</td></tr><tr><td>4000006</td><td>Hazelnut Haven</td><td>hazelnuts</td><td>Europe</td><td>Istanbul</td><td>Kadıköy</td><td>XXL</td><td>28.9784</td><td>41.0082</td><td>Y</td><td>432fd8759f3212a0b0fb1b90a232b03f65ff6883d1cf4247f71366737d55d732</td></tr><tr><td>4000007</td><td>Cinnamon Spice</td><td>cinnamon</td><td>Asia</td><td>Colombo</td><td>Galle Face Green</td><td>L</td><td>79.8612</td><td>6.9271</td><td>Y</td><td>5bb8fa1ebe1c59e25cf6022593adba52ad61c9fb79d47eccd81d402afa43597c</td></tr><tr><td>4000008</td><td>Cashew Corner</td><td>cashews</td><td>Asia</td><td>Goa</td><td>Anjuna Beach</td><td>XL</td><td>73.8067</td><td>15.3173</td><td>Y</td><td>edfa576dd2e0c945b119604b91e8d4680a64e069945367ff633b7ae2d72be8fe</td></tr><tr><td>4000009</td><td>Maple Monarch</td><td>maple syrup</td><td>North America</td><td>Montreal</td><td>Plateau Mont-Royal</td><td>M</td><td>-73.5673</td><td>45.5017</td><td>Y</td><td>2de584aa231a74956a5ac5dfd69a06aab3050410b11f8c89c095b95b4feaee24</td></tr><tr><td>4000010</td><td>Pistachio Palace</td><td>pistachios</td><td>Asia</td><td>Tehran</td><td>Tajrish Bazaar</td><td>S</td><td>51.4215</td><td>35.7106</td><td>Y</td><td>a7afea4951a2aa7bf2b6e58ecd8b712c44fd0e9d659004e47a1a9bc03ad6e356</td></tr><tr><td>4000011</td><td>Oat Oasis</td><td>oats</td><td>Europe</td><td>Edinburgh</td><td>Stockbridge</td><td>L</td><td>-3.1883</td><td>55.9533</td><td>Y</td><td>6ef1ac8bb1bd9456c4817028fc2d038187bc3577e9a62a0f1386d949b127ba24</td></tr><tr><td>4000012</td><td>Coffee Collective</td><td>coffee</td><td>South America</td><td>Medellin</td><td>El Poblado</td><td>XXL</td><td>-75.5638</td><td>6.2518</td><td>Y</td><td>4b60aa6f629df63cc6d694ea0213d6de5a03cd5c849243b953474ef81a2199c3</td></tr><tr><td>4000013</td><td>Ginger Gems</td><td>ginger</td><td>Asia</td><td>Chennai</td><td>Mylapore</td><td>M</td><td>80.2707</td><td>13.0827</td><td>Y</td><td>d0fdd754477596380fd0c9b3bfb4f3b5b3f184b4cc527131e3d51185e19ed686</td></tr><tr><td>4000014</td><td>Molasses Mills</td><td>molasses</td><td>Central America</td><td>Havana</td><td>Vedado</td><td>XL</td><td>-82.3665</td><td>23.1136</td><td>Y</td><td>fed099934e5785df6b1b7ffa7eb61a9cd02fefa6c13aac2da93a82348d68f361</td></tr><tr><td>4000015</td><td>Honey Hives</td><td>honey</td><td>Africa</td><td>Addis Ababa</td><td>Piazza</td><td>S</td><td>38.7575</td><td>9.0084</td><td>Y</td><td>10d4b53538fc1b2296542295ba141067f8c7198424daa003a9d434c2a262da83</td></tr><tr><td>4000016</td><td>Sesame Seeds</td><td>sesame seeds</td><td>Asia</td><td>Yangon</td><td>Chinatown</td><td>L</td><td>96.1611</td><td>16.8409</td><td>Y</td><td>424d71a18a50a22e7e4afb5aa3546bb1ae81cba3a4ecd8981d30ca20b283c65c</td></tr><tr><td>4000017</td><td>Peanut Plantation</td><td>peanuts</td><td>Africa</td><td>Kano</td><td>Kurmi Market</td><td>M</td><td>8.5167</td><td>12.0022</td><td>Y</td><td>06a6e7680bcc613529013a1c61f185f36216600157af9706c3acb33d17c307e5</td></tr><tr><td>4000018</td><td>Raisin Ranch</td><td>raisins</td><td>Asia</td><td>Kabul</td><td>Chicken Street</td><td>XXL</td><td>69.1763</td><td>34.521</td><td>Y</td><td>bfaa5e74c298d71cf0d035a20644361602075b8b7a33f46fa9dbd3563206a152</td></tr><tr><td>4000019</td><td>Cardamom Cove</td><td>cardamom</td><td>Asia</td><td>Kozhikode</td><td>Mappila Bay</td><td>XL</td><td>75.7804</td><td>11.2588</td><td>Y</td><td>cadeb8f080ad755357856e8c7bde19a670057d49ac3d2ca1dc50d347041e3d7f</td></tr><tr><td>4000020</td><td>Clove Cliffs</td><td>cloves</td><td>Africa</td><td>Zanzibar</td><td>Stone Town</td><td>S</td><td>39.1918</td><td>-6.167</td><td>Y</td><td>5c31888c164b100c4af0ede198214807ea86dcde4b229ad70d7f1fa3b518534c</td></tr><tr><td>4000021</td><td>Cocoa Crops</td><td>cocoa butter</td><td>South America</td><td>Caracas</td><td>Las Mercedes</td><td>M</td><td>-66.9036</td><td>10.4806</td><td>Y</td><td>043568b243af138d5029b9feb30635eb71f40e8aa30b0f4cc8f5d14f78f1cf63</td></tr><tr><td>4000022</td><td>Poppy Peaks</td><td>poppy seeds</td><td>Europe</td><td>Krakow</td><td>Kazimierz</td><td>S</td><td>19.9368</td><td>50.0647</td><td>Y</td><td>29615452d067ea16096d2061788bbd51a75b01c975a86aebf5dfe2d21a2f274f</td></tr><tr><td>4000023</td><td>Fennel Fields</td><td>fennel seeds</td><td>Europe</td><td>Florence</td><td>Santo Spirito</td><td>L</td><td>11.2558</td><td>43.7695</td><td>Y</td><td>632cc73f404913cb5d284f4bfb0c40bf4637be189e91085de194b404e6e92bb8</td></tr><tr><td>4000024</td><td>Anise Acres</td><td>anise</td><td>Asia</td><td>Izmir</td><td>Alsancak</td><td>XL</td><td>27.1384</td><td>38.4237</td><td>Y</td><td>9ed8c627d37707874f8c70586fc83991e26db6d7f9c8a6473e80e3c87192d1f6</td></tr><tr><td>4000025</td><td>Nutmeg Nirvana</td><td>nutmeg</td><td>Asia</td><td>Banda Aceh</td><td>Peunayong</td><td>M</td><td>95.3198</td><td>5.5577</td><td>Y</td><td>9aeb18dc8f6e19a8354a0fdccf7d8d72716e85a5cf85024c9835fe38482cb8c6</td></tr><tr><td>4000026</td><td>Mace Meadows</td><td>mace</td><td>Asia</td><td>Ambon</td><td>Namalatu</td><td>S</td><td>128.1753</td><td>-3.6953</td><td>Y</td><td>3f8e9141bbf08b8b5cf1f60463843d321ee2798b34f2403a7e81024a6e0acaf4</td></tr></tbody></table></div>"
      ]
     },
     "metadata": {
      "application/vnd.databricks.v1+output": {
       "addedWidgets": {},
       "aggData": [],
       "aggError": "",
       "aggOverflow": false,
       "aggSchema": [],
       "aggSeriesLimitReached": false,
       "aggType": "",
       "arguments": {},
       "columnCustomDisplayInfos": {},
       "data": [
        [
         4000000,
         "Cacao Wonders",
         "cacao",
         "South America",
         "Guayaquil",
         "Las Peñas",
         "M",
         -79.8974,
         -2.1791,
         "Y",
         "19e37f9076246ae6ffb69e9be7ed2073d94656fb55aadc78ee09807ffd86ff36"
        ],
        [
         4000001,
         "Coconut Grove",
         "coconut",
         "Asia",
         "Manila",
         "Intramuros",
         "S",
         121.0221,
         14.6042,
         "Y",
         "dd8379700727ada5448616395cee167291078ba63a10ae62f20ea3708b19004a"
        ],
        [
         4000002,
         "Almond Delights",
         "almonds",
         "Europe",
         "Valencia",
         "Ruzafa",
         "L",
         -0.3762,
         39.4699,
         "Y",
         "2618ef1944d020b72ae94ce0343b054c4818855400650829c903c0a0bec5004c"
        ],
        [
         4000003,
         "Sugar Cane Harvest",
         "cane sugar",
         "South America",
         "Sao Paulo",
         "Vila Madalena",
         "XL",
         -46.6333,
         -23.5489,
         "Y",
         "98327b4f32a42f832fa286d6fd6c96ba0734010fc2fdb4cb3ac62aa321f2b06c"
        ],
        [
         4000004,
         "Vanilla Valley",
         "vanilla",
         "North America",
         "Mexico City",
         "Roma Norte",
         "M",
         -99.1332,
         19.4326,
         "Y",
         "e6d6a60d578c4b2907df80d8b136e67370b976e9a0754f68a4dd914058b61839"
        ],
        [
         4000005,
         "Pecan Pleasures",
         "pecans",
         "North America",
         "Atlanta",
         "Virginia-Highland",
         "S",
         -84.3888,
         33.749,
         "Y",
         "eb24f9d60f76123cd4744b9bff18c66b5c1babd2a3950faef75a353837c96dd0"
        ],
        [
         4000006,
         "Hazelnut Haven",
         "hazelnuts",
         "Europe",
         "Istanbul",
         "Kadıköy",
         "XXL",
         28.9784,
         41.0082,
         "Y",
         "432fd8759f3212a0b0fb1b90a232b03f65ff6883d1cf4247f71366737d55d732"
        ],
        [
         4000007,
         "Cinnamon Spice",
         "cinnamon",
         "Asia",
         "Colombo",
         "Galle Face Green",
         "L",
         79.8612,
         6.9271,
         "Y",
         "5bb8fa1ebe1c59e25cf6022593adba52ad61c9fb79d47eccd81d402afa43597c"
        ],
        [
         4000008,
         "Cashew Corner",
         "cashews",
         "Asia",
         "Goa",
         "Anjuna Beach",
         "XL",
         73.8067,
         15.3173,
         "Y",
         "edfa576dd2e0c945b119604b91e8d4680a64e069945367ff633b7ae2d72be8fe"
        ],
        [
         4000009,
         "Maple Monarch",
         "maple syrup",
         "North America",
         "Montreal",
         "Plateau Mont-Royal",
         "M",
         -73.5673,
         45.5017,
         "Y",
         "2de584aa231a74956a5ac5dfd69a06aab3050410b11f8c89c095b95b4feaee24"
        ],
        [
         4000010,
         "Pistachio Palace",
         "pistachios",
         "Asia",
         "Tehran",
         "Tajrish Bazaar",
         "S",
         51.4215,
         35.7106,
         "Y",
         "a7afea4951a2aa7bf2b6e58ecd8b712c44fd0e9d659004e47a1a9bc03ad6e356"
        ],
        [
         4000011,
         "Oat Oasis",
         "oats",
         "Europe",
         "Edinburgh",
         "Stockbridge",
         "L",
         -3.1883,
         55.9533,
         "Y",
         "6ef1ac8bb1bd9456c4817028fc2d038187bc3577e9a62a0f1386d949b127ba24"
        ],
        [
         4000012,
         "Coffee Collective",
         "coffee",
         "South America",
         "Medellin",
         "El Poblado",
         "XXL",
         -75.5638,
         6.2518,
         "Y",
         "4b60aa6f629df63cc6d694ea0213d6de5a03cd5c849243b953474ef81a2199c3"
        ],
        [
         4000013,
         "Ginger Gems",
         "ginger",
         "Asia",
         "Chennai",
         "Mylapore",
         "M",
         80.2707,
         13.0827,
         "Y",
         "d0fdd754477596380fd0c9b3bfb4f3b5b3f184b4cc527131e3d51185e19ed686"
        ],
        [
         4000014,
         "Molasses Mills",
         "molasses",
         "Central America",
         "Havana",
         "Vedado",
         "XL",
         -82.3665,
         23.1136,
         "Y",
         "fed099934e5785df6b1b7ffa7eb61a9cd02fefa6c13aac2da93a82348d68f361"
        ],
        [
         4000015,
         "Honey Hives",
         "honey",
         "Africa",
         "Addis Ababa",
         "Piazza",
         "S",
         38.7575,
         9.0084,
         "Y",
         "10d4b53538fc1b2296542295ba141067f8c7198424daa003a9d434c2a262da83"
        ],
        [
         4000016,
         "Sesame Seeds",
         "sesame seeds",
         "Asia",
         "Yangon",
         "Chinatown",
         "L",
         96.1611,
         16.8409,
         "Y",
         "424d71a18a50a22e7e4afb5aa3546bb1ae81cba3a4ecd8981d30ca20b283c65c"
        ],
        [
         4000017,
         "Peanut Plantation",
         "peanuts",
         "Africa",
         "Kano",
         "Kurmi Market",
         "M",
         8.5167,
         12.0022,
         "Y",
         "06a6e7680bcc613529013a1c61f185f36216600157af9706c3acb33d17c307e5"
        ],
        [
         4000018,
         "Raisin Ranch",
         "raisins",
         "Asia",
         "Kabul",
         "Chicken Street",
         "XXL",
         69.1763,
         34.521,
         "Y",
         "bfaa5e74c298d71cf0d035a20644361602075b8b7a33f46fa9dbd3563206a152"
        ],
        [
         4000019,
         "Cardamom Cove",
         "cardamom",
         "Asia",
         "Kozhikode",
         "Mappila Bay",
         "XL",
         75.7804,
         11.2588,
         "Y",
         "cadeb8f080ad755357856e8c7bde19a670057d49ac3d2ca1dc50d347041e3d7f"
        ],
        [
         4000020,
         "Clove Cliffs",
         "cloves",
         "Africa",
         "Zanzibar",
         "Stone Town",
         "S",
         39.1918,
         -6.167,
         "Y",
         "5c31888c164b100c4af0ede198214807ea86dcde4b229ad70d7f1fa3b518534c"
        ],
        [
         4000021,
         "Cocoa Crops",
         "cocoa butter",
         "South America",
         "Caracas",
         "Las Mercedes",
         "M",
         -66.9036,
         10.4806,
         "Y",
         "043568b243af138d5029b9feb30635eb71f40e8aa30b0f4cc8f5d14f78f1cf63"
        ],
        [
         4000022,
         "Poppy Peaks",
         "poppy seeds",
         "Europe",
         "Krakow",
         "Kazimierz",
         "S",
         19.9368,
         50.0647,
         "Y",
         "29615452d067ea16096d2061788bbd51a75b01c975a86aebf5dfe2d21a2f274f"
        ],
        [
         4000023,
         "Fennel Fields",
         "fennel seeds",
         "Europe",
         "Florence",
         "Santo Spirito",
         "L",
         11.2558,
         43.7695,
         "Y",
         "632cc73f404913cb5d284f4bfb0c40bf4637be189e91085de194b404e6e92bb8"
        ],
        [
         4000024,
         "Anise Acres",
         "anise",
         "Asia",
         "Izmir",
         "Alsancak",
         "XL",
         27.1384,
         38.4237,
         "Y",
         "9ed8c627d37707874f8c70586fc83991e26db6d7f9c8a6473e80e3c87192d1f6"
        ],
        [
         4000025,
         "Nutmeg Nirvana",
         "nutmeg",
         "Asia",
         "Banda Aceh",
         "Peunayong",
         "M",
         95.3198,
         5.5577,
         "Y",
         "9aeb18dc8f6e19a8354a0fdccf7d8d72716e85a5cf85024c9835fe38482cb8c6"
        ],
        [
         4000026,
         "Mace Meadows",
         "mace",
         "Asia",
         "Ambon",
         "Namalatu",
         "S",
         128.1753,
         -3.6953,
         "Y",
         "3f8e9141bbf08b8b5cf1f60463843d321ee2798b34f2403a7e81024a6e0acaf4"
        ]
       ],
       "datasetInfos": [],
       "dbfsResultPath": null,
       "isJsonSchema": true,
       "metadata": {},
       "overflow": false,
       "plotOptions": {
        "customPlotOptions": {},
        "displayType": "table",
        "pivotAggregation": null,
        "pivotColumns": null,
        "xColumns": null,
        "yColumns": null
       },
       "removedWidgets": [],
       "schema": [
        {
         "metadata": "{}",
         "name": "supplierID",
         "type": "\"long\""
        },
        {
         "metadata": "{}",
         "name": "name",
         "type": "\"string\""
        },
        {
         "metadata": "{}",
         "name": "ingredient",
         "type": "\"string\""
        },
        {
         "metadata": "{}",
         "name": "continent",
         "type": "\"string\""
        },
        {
         "metadata": "{}",
         "name": "city",
         "type": "\"string\""
        },
        {
         "metadata": "{}",
         "name": "district",
         "type": "\"string\""
        },
        {
         "metadata": "{}",
         "name": "size",
         "type": "\"string\""
        },
        {
         "metadata": "{}",
         "name": "longitude",
         "type": "\"double\""
        },
        {
         "metadata": "{}",
         "name": "latitude",
         "type": "\"double\""
        },
        {
         "metadata": "{}",
         "name": "approved",
         "type": "\"string\""
        },
        {
         "metadata": "{}",
         "name": "RowHash",
         "type": "\"string\""
        }
       ],
       "type": "table"
      }
     },
     "output_type": "display_data"
    }
   ],
   "source": [
    "display(source)"
   ]
  },
  {
   "cell_type": "markdown",
   "metadata": {
    "application/vnd.databricks.v1+cell": {
     "cellMetadata": {
      "byteLimit": 2048000,
      "rowLimit": 10000
     },
     "inputWidgets": {},
     "nuid": "d962b0f7-590d-4036-b09f-d0ed47951f4d",
     "showTitle": false,
     "tableResultSettingsMap": {},
     "title": ""
    }
   },
   "source": [
    "### Add Metadata Columns to Source Data\n",
    "Include IndCurrent, CreatedDate, and ModifiedDate in the Dataset"
   ]
  },
  {
   "cell_type": "code",
   "execution_count": 0,
   "metadata": {
    "application/vnd.databricks.v1+cell": {
     "cellMetadata": {
      "byteLimit": 2048000,
      "rowLimit": 10000
     },
     "inputWidgets": {},
     "nuid": "a354c24a-528b-4959-9a48-cffb7d2f5b46",
     "showTitle": false,
     "tableResultSettingsMap": {},
     "title": ""
    }
   },
   "outputs": [],
   "source": [
    "# Add three new columns to source :\n",
    "# 1. 'IndCurrent': Set to 1 for all rows, indicating the current/active record.\n",
    "# 2. 'CreatedDate': Set to the current timestamp, representing when the record was created.\n",
    "# 3. 'ModifiedDate': Set to the current timestamp, representing when the record was last modified.\n",
    "source = source.withColumn(\"IndCurrent\", F.lit(1)) \\\n",
    "    .withColumn(\"CreatedDate\", F.current_timestamp()) \\\n",
    "    .withColumn(\"ModifiedDate\", F.current_timestamp())"
   ]
  },
  {
   "cell_type": "markdown",
   "metadata": {
    "application/vnd.databricks.v1+cell": {
     "cellMetadata": {
      "byteLimit": 2048000,
      "rowLimit": 10000
     },
     "inputWidgets": {},
     "nuid": "849da8b7-a295-450f-b9b9-7ce48db6e7b8",
     "showTitle": false,
     "tableResultSettingsMap": {},
     "title": ""
    }
   },
   "source": [
    "### Add storage_id in Ascending Order\n",
    "Assign Unique Row Numbers and Place storage_id as the First Column"
   ]
  },
  {
   "cell_type": "code",
   "execution_count": 0,
   "metadata": {
    "application/vnd.databricks.v1+cell": {
     "cellMetadata": {
      "byteLimit": 2048000,
      "rowLimit": 10000
     },
     "inputWidgets": {},
     "nuid": "9361455d-368b-4687-8adc-ce449409c8d3",
     "showTitle": false,
     "tableResultSettingsMap": {},
     "title": ""
    }
   },
   "outputs": [
    {
     "output_type": "stream",
     "name": "stderr",
     "output_type": "stream",
     "text": [
      "/databricks/python/lib/python3.11/site-packages/pyspark/sql/connect/expressions.py:1017: UserWarning: WARN WindowExpression: No Partition Defined for Window operation! Moving all data to a single partition, this can cause serious performance degradation.\n  warnings.warn(\n"
     ]
    }
   ],
   "source": [
    "from pyspark.sql.window import Window\n",
    "# Define the window specification\n",
    "window_spec = Window.orderBy(F.monotonically_increasing_id())\n",
    "\n",
    "# Add a row number column based on the window specification\n",
    "source = source.withColumn(\"storage_id\", F.row_number().over(window_spec))\n",
    "\n",
    "first_cols = [\"storage_id\"]\n",
    "other_cols = [col for col in source.columns if col not in first_cols]\n",
    "source = source.select(first_cols + other_cols)"
   ]
  },
  {
   "cell_type": "markdown",
   "metadata": {
    "application/vnd.databricks.v1+cell": {
     "cellMetadata": {
      "byteLimit": 2048000,
      "rowLimit": 10000
     },
     "inputWidgets": {},
     "nuid": "7686bd35-a734-46b1-84ca-f12661bbe82a",
     "showTitle": false,
     "tableResultSettingsMap": {},
     "title": ""
    }
   },
   "source": [
    "### Append Data to Delta Table\n",
    "Write source DataFrame to workspace.target.sales2 Using Delta Format\n"
   ]
  },
  {
   "cell_type": "code",
   "execution_count": 0,
   "metadata": {
    "application/vnd.databricks.v1+cell": {
     "cellMetadata": {
      "byteLimit": 2048000,
      "rowLimit": 10000
     },
     "inputWidgets": {},
     "nuid": "35881609-fdd0-4f3b-8615-39468fc96c81",
     "showTitle": false,
     "tableResultSettingsMap": {},
     "title": ""
    }
   },
   "outputs": [],
   "source": [
    "#table_name= 'workspace.target.sales2'\n",
    "#source.write.format('delta').mode('append').saveAsTable(table_name)"
   ]
  },
  {
   "cell_type": "markdown",
   "metadata": {
    "application/vnd.databricks.v1+cell": {
     "cellMetadata": {
      "byteLimit": 2048000,
      "rowLimit": 10000
     },
     "inputWidgets": {},
     "nuid": "cd6589bb-a601-431e-9aa5-c7f716cc9fe8",
     "showTitle": false,
     "tableResultSettingsMap": {},
     "title": ""
    }
   },
   "source": [
    "### Update Ingredient Column Based on SupplierID\n",
    "Set ingredient to 'Mumbai' Where supplierID is \"4000000\""
   ]
  },
  {
   "cell_type": "code",
   "execution_count": 0,
   "metadata": {
    "application/vnd.databricks.v1+cell": {
     "cellMetadata": {
      "byteLimit": 2048000,
      "rowLimit": 10000
     },
     "inputWidgets": {},
     "nuid": "3e0c1487-b422-4bcf-9ac5-d0a21e313d03",
     "showTitle": false,
     "tableResultSettingsMap": {},
     "title": ""
    }
   },
   "outputs": [
    {
     "output_type": "stream",
     "name": "stderr",
     "output_type": "stream",
     "text": [
      "/databricks/python/lib/python3.11/site-packages/pyspark/sql/connect/expressions.py:1017: UserWarning: WARN WindowExpression: No Partition Defined for Window operation! Moving all data to a single partition, this can cause serious performance degradation.\n  warnings.warn(\n"
     ]
    }
   ],
   "source": [
    "from pyspark.sql.functions import col, when\n",
    "\n",
    "Source = source.withColumn(\n",
    "    \"ingredient\",\n",
    "    when(col(\"supplierID\") == \"4000000\", \"Mumbai\").otherwise(col(\"ingredient\"))\n",
    ")"
   ]
  },
  {
   "cell_type": "markdown",
   "metadata": {
    "application/vnd.databricks.v1+cell": {
     "cellMetadata": {
      "byteLimit": 2048000,
      "rowLimit": 10000
     },
     "inputWidgets": {},
     "nuid": "ce52d205-d21d-4ae5-bb92-6f7a7fc6222b",
     "showTitle": false,
     "tableResultSettingsMap": {},
     "title": ""
    }
   },
   "source": [
    "### Select Subset of Columns\n",
    "Extract All Columns from Source Except the First and Last Four"
   ]
  },
  {
   "cell_type": "markdown",
   "metadata": {
    "application/vnd.databricks.v1+cell": {
     "cellMetadata": {
      "byteLimit": 2048000,
      "rowLimit": 10000
     },
     "inputWidgets": {},
     "nuid": "08142c04-db08-4349-94e0-1db1df6b4428",
     "showTitle": false,
     "tableResultSettingsMap": {},
     "title": ""
    }
   },
   "source": [
    "> Slicing is the process of extracting a subset of elements from a sequence (like a list, string, or array) using their index positions.\n",
    "eg. 1:4 is the slice — it includes elements from index 1 to 3 (4 is excluded).\n",
    "  You can also use slicing like list[1:-2] to exclude from end."
   ]
  },
  {
   "cell_type": "code",
   "execution_count": 0,
   "metadata": {
    "application/vnd.databricks.v1+cell": {
     "cellMetadata": {
      "byteLimit": 2048000,
      "rowLimit": 10000
     },
     "inputWidgets": {},
     "nuid": "245f66af-c1b1-495d-8a09-ce9f75160c8a",
     "showTitle": false,
     "tableResultSettingsMap": {},
     "title": ""
    }
   },
   "outputs": [],
   "source": [
    "cols= Source.columns\n",
    "cols = cols[1:-4]"
   ]
  },
  {
   "cell_type": "markdown",
   "metadata": {
    "application/vnd.databricks.v1+cell": {
     "cellMetadata": {
      "byteLimit": 2048000,
      "rowLimit": 10000
     },
     "inputWidgets": {},
     "nuid": "c03864f0-abd6-45d2-bc99-e18cbd62e93b",
     "showTitle": false,
     "tableResultSettingsMap": {},
     "title": ""
    }
   },
   "source": []
  },
  {
   "cell_type": "markdown",
   "metadata": {
    "application/vnd.databricks.v1+cell": {
     "cellMetadata": {
      "byteLimit": 2048000,
      "rowLimit": 10000
     },
     "inputWidgets": {},
     "nuid": "d0c9bb89-3486-45e9-8f12-e61e132a1b9a",
     "showTitle": false,
     "tableResultSettingsMap": {},
     "title": ""
    }
   },
   "source": [
    "### Generate Secure Hash from Selected Columns\n",
    "Create RowHash Using SHA-256 on Specific Columns in SourceDf"
   ]
  },
  {
   "cell_type": "code",
   "execution_count": 0,
   "metadata": {
    "application/vnd.databricks.v1+cell": {
     "cellMetadata": {
      "byteLimit": 2048000,
      "rowLimit": 10000
     },
     "inputWidgets": {},
     "nuid": "1210314e-3152-4541-8a7a-20852ae0797c",
     "showTitle": false,
     "tableResultSettingsMap": {},
     "title": ""
    }
   },
   "outputs": [
    {
     "output_type": "stream",
     "name": "stderr",
     "output_type": "stream",
     "text": [
      "/databricks/python/lib/python3.11/site-packages/pyspark/sql/connect/expressions.py:1017: UserWarning: WARN WindowExpression: No Partition Defined for Window operation! Moving all data to a single partition, this can cause serious performance degradation.\n  warnings.warn(\n"
     ]
    }
   ],
   "source": [
    "from pyspark.sql import functions as F\n",
    "\n",
    "# Concatenate all columns in 'source' DataFrame into 'RowHash'\n",
    "SourceDf = Source.withColumn('RowHash', F.sha2(F.concat_ws('', *cols), 256))"
   ]
  },
  {
   "cell_type": "code",
   "execution_count": 0,
   "metadata": {
    "application/vnd.databricks.v1+cell": {
     "cellMetadata": {
      "byteLimit": 2048000,
      "rowLimit": 10000
     },
     "inputWidgets": {},
     "nuid": "8ac3c11d-8333-415e-b3ad-94a22f207433",
     "showTitle": false,
     "tableResultSettingsMap": {},
     "title": ""
    }
   },
   "outputs": [
    {
     "output_type": "stream",
     "name": "stderr",
     "output_type": "stream",
     "text": [
      "/databricks/python/lib/python3.11/site-packages/pyspark/sql/connect/expressions.py:1017: UserWarning: WARN WindowExpression: No Partition Defined for Window operation! Moving all data to a single partition, this can cause serious performance degradation.\n  warnings.warn(\n"
     ]
    }
   ],
   "source": [
    "SourceDf=SourceDf.drop(\"storage_Id\")"
   ]
  },
  {
   "cell_type": "markdown",
   "metadata": {
    "application/vnd.databricks.v1+cell": {
     "cellMetadata": {
      "byteLimit": 2048000,
      "rowLimit": 10000
     },
     "inputWidgets": {},
     "nuid": "af58cd8f-06f9-4f9c-8407-01a0d896c21c",
     "showTitle": false,
     "tableResultSettingsMap": {},
     "title": ""
    }
   },
   "source": [
    "###Detect New or Changed Records by Comparing Hashes\n",
    "Join with Target Table, Set Flag, Filter Only New Records, and Drop TargetHash\n"
   ]
  },
  {
   "cell_type": "code",
   "execution_count": 0,
   "metadata": {
    "application/vnd.databricks.v1+cell": {
     "cellMetadata": {
      "byteLimit": 2048000,
      "rowLimit": 10000
     },
     "inputWidgets": {},
     "nuid": "8137e742-5aa7-487c-abd1-5f98e2e884e7",
     "showTitle": false,
     "tableResultSettingsMap": {},
     "title": ""
    }
   },
   "outputs": [],
   "source": [
    "TargetDf=spark.read.table(table_name).select(['supplierID','RowHash','storage_id']).withColumnRenamed('RowHash','TargetHash')\n",
    "SourceDf=SourceDf.join(TargetDf, on =['supplierID'], how='left').withColumn('Flag', F.when(col('TargetHash').isNull() | (col('TargetHash') != col('RowHash')), 'New').when(col('TargetHash') == col('RowHash'), 'NoChange').otherwise('Update'))\n",
    "# Drop the TargetHash column\n",
    "SourceDf=SourceDf.drop('TargetHash')\n",
    "SourceDf=SourceDf.filter(col(\"Flag\") == \"New\")\n",
    "SourceDf.display()"
   ]
  },
  {
   "cell_type": "markdown",
   "metadata": {
    "application/vnd.databricks.v1+cell": {
     "cellMetadata": {
      "byteLimit": 2048000,
      "rowLimit": 10000
     },
     "inputWidgets": {},
     "nuid": "8ebe92a5-15e5-4300-a48d-b37298dfc163",
     "showTitle": false,
     "tableResultSettingsMap": {},
     "title": ""
    }
   },
   "source": [
    "###Implement SCD Type 2 with Delta Lake Merge\n",
    "Mark Old Records as Inactive and Insert New Rows with Unique Surrogate Keys"
   ]
  },
  {
   "cell_type": "code",
   "execution_count": 0,
   "metadata": {
    "application/vnd.databricks.v1+cell": {
     "cellMetadata": {
      "byteLimit": 2048000,
      "rowLimit": 10000
     },
     "inputWidgets": {},
     "nuid": "947f6573-5d6b-4c34-8490-2177062594c0",
     "showTitle": false,
     "tableResultSettingsMap": {},
     "title": ""
    }
   },
   "outputs": [
    {
     "output_type": "execute_result",
     "data": {
      "text/plain": [
       "<delta.connect.tables.DeltaMergeBuilder at 0xff8ceec04650>"
      ]
     },
     "execution_count": 16,
     "metadata": {},
     "output_type": "execute_result"
    },
    {
     "output_type": "stream",
     "name": "stderr",
     "output_type": "stream",
     "text": [
      "/databricks/python/lib/python3.11/site-packages/pyspark/sql/connect/expressions.py:1017: UserWarning: WARN WindowExpression: No Partition Defined for Window operation! Moving all data to a single partition, this can cause serious performance degradation.\n  warnings.warn(\n"
     ]
    }
   ],
   "source": [
    "from delta.tables import DeltaTable\n",
    "from pyspark.sql.functions import current_timestamp, lit, col, udf\n",
    "from pyspark.sql.types import StringType\n",
    "import uuid\n",
    "\n",
    "# Configuration\n",
    "table_name = \"workspace.target.sales2\"\n",
    "key_column = \"supplierID\"\n",
    "hash_column = \"RowHash\"\n",
    "is_current_column = \"IndCurrent\"\n",
    "surrogate_key_column = \"storage_id\"\n",
    "created_column = \"CreatedDate\"\n",
    "\n",
    "# Reference Delta table\n",
    "target_table = DeltaTable.forName(spark, table_name)\n",
    "\n",
    "# Add new columns to source DataFrame\n",
    "uuid_udf = udf(lambda: str(uuid.uuid4()), StringType())\n",
    "SourceDf = SourceDf \\\n",
    "    .withColumn(surrogate_key_column, uuid_udf()) \\\n",
    "    .withColumn(created_column, current_timestamp()) \\\n",
    "    .withColumn(is_current_column, lit(1))\n",
    "\n",
    "# Use aliases properly\n",
    "src = SourceDf.alias(\"src\")\n",
    "tgt = target_table.alias(\"tgt\")\n",
    "\n",
    "# Use column expressions (not strings) in merge condition\n",
    "tgt.merge(\n",
    "    source=src,\n",
    "    condition=(\n",
    "        (col(f\"tgt.{key_column}\") == col(f\"src.{key_column}\")) &\n",
    "        (col(f\"tgt.{is_current_column}\") == lit(1))\n",
    "    )\n",
    ").whenMatchedUpdate(\n",
    "    condition=col(f\"tgt.{hash_column}\") != col(f\"src.{hash_column}\"),\n",
    "    set={\n",
    "        is_current_column: lit(0)\n",
    "    }\n",
    ")"
   ]
  },
  {
   "cell_type": "markdown",
   "metadata": {
    "application/vnd.databricks.v1+cell": {
     "cellMetadata": {},
     "inputWidgets": {},
     "nuid": "fdeb64b6-5264-4044-bd68-950169d71bc5",
     "showTitle": false,
     "tableResultSettingsMap": {},
     "title": ""
    }
   },
   "source": [
    "### Reassign and Append New Storage IDs\n",
    "Drop Old Columns, Generate New storage_id, Set IndCurrent, and Append to Delta Table"
   ]
  },
  {
   "cell_type": "code",
   "execution_count": 0,
   "metadata": {
    "application/vnd.databricks.v1+cell": {
     "cellMetadata": {
      "byteLimit": 2048000,
      "rowLimit": 10000
     },
     "inputWidgets": {},
     "nuid": "cdd7fbe8-7ad0-4d04-b8a0-495130b7c97d",
     "showTitle": false,
     "tableResultSettingsMap": {},
     "title": ""
    }
   },
   "outputs": [
    {
     "output_type": "stream",
     "name": "stderr",
     "output_type": "stream",
     "text": [
      "/databricks/python/lib/python3.11/site-packages/pyspark/sql/connect/expressions.py:1017: UserWarning: WARN WindowExpression: No Partition Defined for Window operation! Moving all data to a single partition, this can cause serious performance degradation.\n  warnings.warn(\n"
     ]
    }
   ],
   "source": [
    "SourceDf = SourceDf.drop('storage_id','Flag')\n",
    "max_storage_id = spark.sql(f\"select max(storage_id) as max_id from {table_name}\").first()['max_id']\n",
    "next_storage_id = 1 if not max_storage_id or max_storage_id == 0 else max_storage_id + 1\n",
    "\n",
    "SourceDf = SourceDf.withColumn('storage_id', lit(next_storage_id))\n",
    "SourceDf = SourceDf.withColumn('IndCurrent', lit(1))\n",
    "SourceDf.write.format('delta').mode('append').saveAsTable(table_name)"
   ]
  },
  {
   "cell_type": "code",
   "execution_count": 0,
   "metadata": {
    "application/vnd.databricks.v1+cell": {
     "cellMetadata": {
      "byteLimit": 2048000,
      "rowLimit": 10000
     },
     "inputWidgets": {},
     "nuid": "6fb217eb-f648-47a3-aa8a-5434d2221a84",
     "showTitle": false,
     "tableResultSettingsMap": {},
     "title": ""
    }
   },
   "outputs": [],
   "source": []
  }
 ],
 "metadata": {
  "application/vnd.databricks.v1+notebook": {
   "computePreferences": null,
   "dashboards": [],
   "environmentMetadata": {
    "base_environment": "",
    "environment_version": "2"
   },
   "inputWidgetPreferences": null,
   "language": "python",
   "notebookMetadata": {
    "pythonIndentUnit": 4
   },
   "notebookName": "SCD_2",
   "widgets": {}
  },
  "language_info": {
   "name": "python"
  }
 },
 "nbformat": 4,
 "nbformat_minor": 0
}