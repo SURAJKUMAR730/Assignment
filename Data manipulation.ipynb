{
 "cells": [
  {
   "cell_type": "markdown",
   "metadata": {
    "application/vnd.databricks.v1+cell": {
     "cellMetadata": {
      "byteLimit": 2048000,
      "rowLimit": 10000
     },
     "inputWidgets": {},
     "nuid": "e37bf14b-1b32-4742-aa3f-148b728d322f",
     "showTitle": false,
     "tableResultSettingsMap": {},
     "title": ""
    }
   },
   "source": []
  },
  {
   "cell_type": "markdown",
   "metadata": {
    "application/vnd.databricks.v1+cell": {
     "cellMetadata": {},
     "inputWidgets": {},
     "nuid": "4a3e0c18-a985-435b-983c-3bd02b209ee6",
     "showTitle": false,
     "tableResultSettingsMap": {},
     "title": ""
    }
   },
   "source": [
    "###**Creating Schema**\n",
    "Creating Source and Target Schemas in Spark SQL"
   ]
  },
  {
   "cell_type": "code",
   "execution_count": 0,
   "metadata": {
    "application/vnd.databricks.v1+cell": {
     "cellMetadata": {
      "byteLimit": 2048000,
      "rowLimit": 10000
     },
     "inputWidgets": {},
     "nuid": "c25ae4a9-b209-4477-95ac-f77236c58d04",
     "showTitle": false,
     "tableResultSettingsMap": {},
     "title": ""
    }
   },
   "outputs": [
    {
     "output_type": "execute_result",
     "data": {
      "text/plain": [
       "DataFrame[]"
      ]
     },
     "execution_count": 24,
     "metadata": {},
     "output_type": "execute_result"
    }
   ],
   "source": [
    "spark.sql(\"CREATE SCHEMA IF NOT EXISTS workspace.source\")  # Create source schema if it doesn't exist\n",
    "spark.sql(\"CREATE SCHEMA IF NOT EXISTS workspace.target\")  # Create target schema if it doesn't exist"
   ]
  },
  {
   "cell_type": "markdown",
   "metadata": {
    "application/vnd.databricks.v1+cell": {
     "cellMetadata": {},
     "inputWidgets": {},
     "nuid": "27400690-0390-49d4-8c11-0efe296fdfc9",
     "showTitle": false,
     "tableResultSettingsMap": {},
     "title": ""
    }
   },
   "source": [
    "### **Loading and Saving SCD1 Data Table**\n",
    "Read from AccuWeather Source and Overwrite to Workspace Source Schema"
   ]
  },
  {
   "cell_type": "code",
   "execution_count": 0,
   "metadata": {
    "application/vnd.databricks.v1+cell": {
     "cellMetadata": {
      "byteLimit": 2048000,
      "rowLimit": 10000
     },
     "inputWidgets": {},
     "nuid": "121a78df-84a5-4c67-9a8c-4b26ac201945",
     "showTitle": false,
     "tableResultSettingsMap": {},
     "title": ""
    }
   },
   "outputs": [],
   "source": [
    "Y1 = spark.sql(\"select * from samples.bakehouse.sales_suppliers\")\n",
    "Y1.write.mode(\"overwrite\").saveAsTable(\"workspace.source.Y1\")"
   ]
  },
  {
   "cell_type": "markdown",
   "metadata": {
    "application/vnd.databricks.v1+cell": {
     "cellMetadata": {},
     "inputWidgets": {},
     "nuid": "9c2abbbf-a7de-4cac-aac2-4dcc1d3d519b",
     "showTitle": false,
     "tableResultSettingsMap": {},
     "title": ""
    }
   },
   "source": [
    "### **Read and Display SCD1 Source Table**\n",
    "Load Data from workspace.source.scd1 and Visualize Contents"
   ]
  },
  {
   "cell_type": "code",
   "execution_count": 0,
   "metadata": {
    "application/vnd.databricks.v1+cell": {
     "cellMetadata": {
      "byteLimit": 2048000,
      "rowLimit": 10000
     },
     "inputWidgets": {},
     "nuid": "0e6db927-0600-4939-a627-e4b08b794020",
     "showTitle": false,
     "tableResultSettingsMap": {},
     "title": ""
    }
   },
   "outputs": [],
   "source": [
    "source = spark.read.table('workspace.source.Y1')\n",
    "source.display()"
   ]
  },
  {
   "cell_type": "markdown",
   "metadata": {
    "application/vnd.databricks.v1+cell": {
     "cellMetadata": {},
     "inputWidgets": {},
     "nuid": "ef594847-0c56-4cf3-877d-1fdb4d0aee31",
     "showTitle": false,
     "tableResultSettingsMap": {},
     "title": ""
    }
   },
   "source": [
    "### **Concatenate All Columns into 'ConCatValue'**\n",
    "Transform Source Data by Merging All Columns into a Single Column"
   ]
  },
  {
   "cell_type": "code",
   "execution_count": 0,
   "metadata": {
    "application/vnd.databricks.v1+cell": {
     "cellMetadata": {
      "byteLimit": 2048000,
      "rowLimit": 10000
     },
     "inputWidgets": {},
     "nuid": "eafe86b7-e3df-40fa-8249-6234548bcb4f",
     "showTitle": false,
     "tableResultSettingsMap": {},
     "title": ""
    }
   },
   "outputs": [],
   "source": [
    "from pyspark.sql import functions as F\n",
    "# Load Data From Source and concatenate all columns into 'ConCatValue'\n",
    "source = source.withColumn('ConCatValue', F.concat_ws('', *source.columns))\n",
    "display(source)"
   ]
  },
  {
   "cell_type": "markdown",
   "metadata": {
    "application/vnd.databricks.v1+cell": {
     "cellMetadata": {},
     "inputWidgets": {},
     "nuid": "ae2643a1-bbe8-4277-b381-d7b3dac214ae",
     "showTitle": false,
     "tableResultSettingsMap": {},
     "title": ""
    }
   },
   "source": [
    "### Add Metadata Columns to Source Data\n",
    "Include IndCurrent, CreatedDate, and ModifiedDate in the Dataset\n",
    "> These columns are metadata as they describe data, not business values:\n",
    "IndCurrent: Flags current active record.\n",
    "CreatedDate: Timestamp when inserted.\n",
    "ModifiedDate: Timestamp of last update.\n",
    "  Used for tracking, versioning, and auditing."
   ]
  },
  {
   "cell_type": "code",
   "execution_count": 0,
   "metadata": {
    "application/vnd.databricks.v1+cell": {
     "cellMetadata": {
      "byteLimit": 2048000,
      "rowLimit": 10000
     },
     "inputWidgets": {},
     "nuid": "bf8fafc1-09cc-4332-a3cc-07228951a758",
     "showTitle": false,
     "tableResultSettingsMap": {},
     "title": ""
    }
   },
   "outputs": [],
   "source": [
    "# Add IndCurrent, CreatedDate, and ModifiedDate columns\n",
    "source = source.withColumn(\"IndCurrent\", F.lit(1)) \\\n",
    "    .withColumn(\"CreatedDate\", F.current_timestamp()) \\\n",
    "    .withColumn(\"ModifiedDate\", F.current_timestamp())\n",
    "source.display()"
   ]
  },
  {
   "cell_type": "markdown",
   "metadata": {
    "application/vnd.databricks.v1+cell": {
     "cellMetadata": {
      "byteLimit": 2048000,
      "rowLimit": 10000
     },
     "inputWidgets": {},
     "nuid": "674eb3cb-bb95-4ecb-866d-37c1a97d5917",
     "showTitle": false,
     "tableResultSettingsMap": {},
     "title": ""
    }
   },
   "source": [
    "###  Sort the source DataFrame by the latitude column in ascending order"
   ]
  },
  {
   "cell_type": "code",
   "execution_count": 0,
   "metadata": {
    "application/vnd.databricks.v1+cell": {
     "cellMetadata": {
      "byteLimit": 2048000,
      "rowLimit": 10000
     },
     "inputWidgets": {},
     "nuid": "fe207685-647c-4172-9379-a603f99c6e24",
     "showTitle": false,
     "tableResultSettingsMap": {},
     "title": ""
    }
   },
   "outputs": [],
   "source": [
    "# Sort the DataFrame by the 'latitude' column in ascending order\n",
    "source = source.orderBy(F.col(\"latitude\"))\n",
    "\n",
    "# Display the sorted DataFrame\n",
    "display(source)"
   ]
  },
  {
   "cell_type": "markdown",
   "metadata": {
    "application/vnd.databricks.v1+cell": {
     "cellMetadata": {
      "byteLimit": 2048000,
      "rowLimit": 10000
     },
     "inputWidgets": {},
     "nuid": "a4c943f3-a3cb-47f0-8a96-7b7ad7323642",
     "showTitle": false,
     "tableResultSettingsMap": {},
     "title": ""
    }
   },
   "source": [
    "### Revert the source DataFrame to its original state before any transformations,"
   ]
  },
  {
   "cell_type": "code",
   "execution_count": 0,
   "metadata": {
    "application/vnd.databricks.v1+cell": {
     "cellMetadata": {
      "byteLimit": 2048000,
      "rowLimit": 10000
     },
     "inputWidgets": {},
     "nuid": "713e758e-bac2-4dbc-8ba6-d5812d18e4a9",
     "showTitle": false,
     "tableResultSettingsMap": {},
     "title": ""
    }
   },
   "outputs": [],
   "source": [
    "# Reload the original table\n",
    "source = spark.read.table('samples.bakehouse.sales_suppliers')\n",
    "\n",
    "# Display the reloaded DataFrame\n",
    "display(source)"
   ]
  },
  {
   "cell_type": "markdown",
   "metadata": {
    "application/vnd.databricks.v1+cell": {
     "cellMetadata": {
      "byteLimit": 2048000,
      "rowLimit": 10000
     },
     "inputWidgets": {},
     "nuid": "41219f31-4386-4c41-922d-a2f9cbfc85ca",
     "showTitle": false,
     "tableResultSettingsMap": {},
     "title": ""
    }
   },
   "source": [
    "### Sort the source DataFrame in descending order based on the size column"
   ]
  },
  {
   "cell_type": "code",
   "execution_count": 0,
   "metadata": {
    "application/vnd.databricks.v1+cell": {
     "cellMetadata": {
      "byteLimit": 2048000,
      "rowLimit": 10000
     },
     "inputWidgets": {},
     "nuid": "bb06e4a0-4b76-45c5-866e-ad1d9ed7da5b",
     "showTitle": false,
     "tableResultSettingsMap": {},
     "title": ""
    }
   },
   "outputs": [],
   "source": [
    "from pyspark.sql.functions import col\n",
    "\n",
    "# Sort the DataFrame by the 'size' column in descending order\n",
    "source = source.orderBy(col(\"size\").desc())\n",
    "\n",
    "# Display the sorted DataFrame\n",
    "display(source)"
   ]
  },
  {
   "cell_type": "markdown",
   "metadata": {
    "application/vnd.databricks.v1+cell": {
     "cellMetadata": {
      "byteLimit": 2048000,
      "rowLimit": 10000
     },
     "inputWidgets": {},
     "nuid": "9b4cfaee-fdb1-4dcb-b5ad-583964a5a984",
     "showTitle": false,
     "tableResultSettingsMap": {},
     "title": ""
    }
   },
   "source": [
    "###Filter\n",
    "#####Remove all rows where the supplierID is <= 4000010"
   ]
  },
  {
   "cell_type": "code",
   "execution_count": 0,
   "metadata": {
    "application/vnd.databricks.v1+cell": {
     "cellMetadata": {
      "byteLimit": 2048000,
      "rowLimit": 10000
     },
     "inputWidgets": {},
     "nuid": "948dab84-a587-4fc0-b4f1-564aed12f990",
     "showTitle": false,
     "tableResultSettingsMap": {},
     "title": ""
    }
   },
   "outputs": [
    {
     "output_type": "display_data",
     "data": {
      "text/html": [
       "<style scoped>\n",
       "  .table-result-container {\n",
       "    max-height: 300px;\n",
       "    overflow: auto;\n",
       "  }\n",
       "  table, th, td {\n",
       "    border: 1px solid black;\n",
       "    border-collapse: collapse;\n",
       "  }\n",
       "  th, td {\n",
       "    padding: 5px;\n",
       "  }\n",
       "  th {\n",
       "    text-align: left;\n",
       "  }\n",
       "</style><div class='table-result-container'><table class='table-result'><thead style='background-color: white'><tr><th>supplierID</th><th>name</th><th>ingredient</th><th>continent</th><th>city</th><th>district</th><th>size</th><th>longitude</th><th>latitude</th><th>approved</th></tr></thead><tbody><tr><td>4000006</td><td>Hazelnut Haven</td><td>hazelnuts</td><td>Europe</td><td>Istanbul</td><td>Kadıköy</td><td>XXL</td><td>28.9784</td><td>41.0082</td><td>Y</td></tr><tr><td>4000008</td><td>Cashew Corner</td><td>cashews</td><td>Asia</td><td>Goa</td><td>Anjuna Beach</td><td>XL</td><td>73.8067</td><td>15.3173</td><td>Y</td></tr><tr><td>4000003</td><td>Sugar Cane Harvest</td><td>cane sugar</td><td>South America</td><td>Sao Paulo</td><td>Vila Madalena</td><td>XL</td><td>-46.6333</td><td>-23.5489</td><td>Y</td></tr><tr><td>4000010</td><td>Pistachio Palace</td><td>pistachios</td><td>Asia</td><td>Tehran</td><td>Tajrish Bazaar</td><td>S</td><td>51.4215</td><td>35.7106</td><td>Y</td></tr><tr><td>4000005</td><td>Pecan Pleasures</td><td>pecans</td><td>North America</td><td>Atlanta</td><td>Virginia-Highland</td><td>S</td><td>-84.3888</td><td>33.749</td><td>Y</td></tr><tr><td>4000001</td><td>Coconut Grove</td><td>coconut</td><td>Asia</td><td>Manila</td><td>Intramuros</td><td>S</td><td>121.0221</td><td>14.6042</td><td>Y</td></tr><tr><td>4000004</td><td>Vanilla Valley</td><td>vanilla</td><td>North America</td><td>Mexico City</td><td>Roma Norte</td><td>M</td><td>-99.1332</td><td>19.4326</td><td>Y</td></tr><tr><td>4000000</td><td>Cacao Wonders</td><td>cacao</td><td>South America</td><td>Guayaquil</td><td>Las Peñas</td><td>M</td><td>-79.8974</td><td>-2.1791</td><td>Y</td></tr><tr><td>4000009</td><td>Maple Monarch</td><td>maple syrup</td><td>North America</td><td>Montreal</td><td>Plateau Mont-Royal</td><td>M</td><td>-73.5673</td><td>45.5017</td><td>Y</td></tr><tr><td>4000002</td><td>Almond Delights</td><td>almonds</td><td>Europe</td><td>Valencia</td><td>Ruzafa</td><td>L</td><td>-0.3762</td><td>39.4699</td><td>Y</td></tr><tr><td>4000007</td><td>Cinnamon Spice</td><td>cinnamon</td><td>Asia</td><td>Colombo</td><td>Galle Face Green</td><td>L</td><td>79.8612</td><td>6.9271</td><td>Y</td></tr></tbody></table></div>"
      ]
     },
     "metadata": {
      "application/vnd.databricks.v1+output": {
       "addedWidgets": {},
       "aggData": [],
       "aggError": "",
       "aggOverflow": false,
       "aggSchema": [],
       "aggSeriesLimitReached": false,
       "aggType": "",
       "arguments": {},
       "columnCustomDisplayInfos": {},
       "data": [
        [
         4000006,
         "Hazelnut Haven",
         "hazelnuts",
         "Europe",
         "Istanbul",
         "Kadıköy",
         "XXL",
         28.9784,
         41.0082,
         "Y"
        ],
        [
         4000008,
         "Cashew Corner",
         "cashews",
         "Asia",
         "Goa",
         "Anjuna Beach",
         "XL",
         73.8067,
         15.3173,
         "Y"
        ],
        [
         4000003,
         "Sugar Cane Harvest",
         "cane sugar",
         "South America",
         "Sao Paulo",
         "Vila Madalena",
         "XL",
         -46.6333,
         -23.5489,
         "Y"
        ],
        [
         4000010,
         "Pistachio Palace",
         "pistachios",
         "Asia",
         "Tehran",
         "Tajrish Bazaar",
         "S",
         51.4215,
         35.7106,
         "Y"
        ],
        [
         4000005,
         "Pecan Pleasures",
         "pecans",
         "North America",
         "Atlanta",
         "Virginia-Highland",
         "S",
         -84.3888,
         33.749,
         "Y"
        ],
        [
         4000001,
         "Coconut Grove",
         "coconut",
         "Asia",
         "Manila",
         "Intramuros",
         "S",
         121.0221,
         14.6042,
         "Y"
        ],
        [
         4000004,
         "Vanilla Valley",
         "vanilla",
         "North America",
         "Mexico City",
         "Roma Norte",
         "M",
         -99.1332,
         19.4326,
         "Y"
        ],
        [
         4000000,
         "Cacao Wonders",
         "cacao",
         "South America",
         "Guayaquil",
         "Las Peñas",
         "M",
         -79.8974,
         -2.1791,
         "Y"
        ],
        [
         4000009,
         "Maple Monarch",
         "maple syrup",
         "North America",
         "Montreal",
         "Plateau Mont-Royal",
         "M",
         -73.5673,
         45.5017,
         "Y"
        ],
        [
         4000002,
         "Almond Delights",
         "almonds",
         "Europe",
         "Valencia",
         "Ruzafa",
         "L",
         -0.3762,
         39.4699,
         "Y"
        ],
        [
         4000007,
         "Cinnamon Spice",
         "cinnamon",
         "Asia",
         "Colombo",
         "Galle Face Green",
         "L",
         79.8612,
         6.9271,
         "Y"
        ]
       ],
       "datasetInfos": [],
       "dbfsResultPath": null,
       "isJsonSchema": true,
       "metadata": {},
       "overflow": false,
       "plotOptions": {
        "customPlotOptions": {},
        "displayType": "table",
        "pivotAggregation": null,
        "pivotColumns": null,
        "xColumns": null,
        "yColumns": null
       },
       "removedWidgets": [],
       "schema": [
        {
         "metadata": "{}",
         "name": "supplierID",
         "type": "\"long\""
        },
        {
         "metadata": "{}",
         "name": "name",
         "type": "\"string\""
        },
        {
         "metadata": "{}",
         "name": "ingredient",
         "type": "\"string\""
        },
        {
         "metadata": "{}",
         "name": "continent",
         "type": "\"string\""
        },
        {
         "metadata": "{}",
         "name": "city",
         "type": "\"string\""
        },
        {
         "metadata": "{}",
         "name": "district",
         "type": "\"string\""
        },
        {
         "metadata": "{}",
         "name": "size",
         "type": "\"string\""
        },
        {
         "metadata": "{}",
         "name": "longitude",
         "type": "\"double\""
        },
        {
         "metadata": "{}",
         "name": "latitude",
         "type": "\"double\""
        },
        {
         "metadata": "{}",
         "name": "approved",
         "type": "\"string\""
        }
       ],
       "type": "table"
      }
     },
     "output_type": "display_data"
    }
   ],
   "source": [
    "from pyspark.sql.functions import col\n",
    "\n",
    "# Filter out rows where supplierID is greater than 4000010\n",
    "source = source.filter(col(\"supplierID\") <= 4000010)\n",
    "\n",
    "# Display the filtered DataFrame\n",
    "display(source)"
   ]
  },
  {
   "cell_type": "markdown",
   "metadata": {
    "application/vnd.databricks.v1+cell": {
     "cellMetadata": {
      "byteLimit": 2048000,
      "rowLimit": 10000
     },
     "inputWidgets": {},
     "nuid": "e4b65313-0b4a-4c2c-9366-50789ccc840f",
     "showTitle": false,
     "tableResultSettingsMap": {},
     "title": ""
    }
   },
   "source": [
    "### To swap the columns ingredient and continent in the DataFrame"
   ]
  },
  {
   "cell_type": "code",
   "execution_count": 0,
   "metadata": {
    "application/vnd.databricks.v1+cell": {
     "cellMetadata": {
      "byteLimit": 2048000,
      "rowLimit": 10000
     },
     "inputWidgets": {},
     "nuid": "f1185c2d-088a-4b65-acdf-b155b285bc4c",
     "showTitle": false,
     "tableResultSettingsMap": {},
     "title": ""
    }
   },
   "outputs": [],
   "source": [
    "# Ensure the columns 'ingredient' and 'continent' exist in the DataFrame\n",
    "if 'ingredient' in source.columns and 'continent' in source.columns:\n",
    "    # Reorder the columns to swap 'ingredient' and 'continent'\n",
    "    columns = source.columns\n",
    "    ingredient_index = columns.index('ingredient')\n",
    "    continent_index = columns.index('continent')\n",
    "\n",
    "    # Swap the columns\n",
    "    columns[ingredient_index], columns[continent_index] = columns[continent_index], columns[ingredient_index]\n",
    "\n",
    "    # Select the DataFrame with the new column order\n",
    "    source = source.select(*columns)\n",
    "\n",
    "    # Display the updated DataFrame\n",
    "    display(source)\n",
    "else:\n",
    "    print(\"Columns 'ingredient' and 'continent' must exist in the DataFrame.\")"
   ]
  },
  {
   "cell_type": "markdown",
   "metadata": {
    "application/vnd.databricks.v1+cell": {
     "cellMetadata": {},
     "inputWidgets": {},
     "nuid": "42855a38-ea97-4a0d-a60b-17e3ea8b8a00",
     "showTitle": false,
     "tableResultSettingsMap": {},
     "title": ""
    }
   },
   "source": [
    "### To revert the source DataFrame to its original state\n",
    "> To revert the source DataFrame to its original state before any transformations, you can reload the table from the original source. "
   ]
  },
  {
   "cell_type": "code",
   "execution_count": 0,
   "metadata": {
    "application/vnd.databricks.v1+cell": {
     "cellMetadata": {
      "byteLimit": 2048000,
      "rowLimit": 10000
     },
     "inputWidgets": {},
     "nuid": "f1cb42ab-1895-45ab-80be-5a3ba3919aaf",
     "showTitle": false,
     "tableResultSettingsMap": {},
     "title": ""
    }
   },
   "outputs": [],
   "source": [
    "# Reload the original table\n",
    "source = spark.read.table('samples.bakehouse.sales_suppliers')\n",
    "# Display the reloaded DataFrame\n",
    "display(source)"
   ]
  },
  {
   "cell_type": "markdown",
   "metadata": {
    "application/vnd.databricks.v1+cell": {
     "cellMetadata": {},
     "inputWidgets": {},
     "nuid": "2f39d908-c20f-4cc2-b311-73fcec4174a2",
     "showTitle": false,
     "tableResultSettingsMap": {},
     "title": ""
    }
   },
   "source": [
    "### To get the 4th highest latitude city\n",
    "> - To get the 4th highest latitude city, you can use the orderBy and limit functions along with the dropDuplicates function to ensure unique latitude values"
   ]
  },
  {
   "cell_type": "code",
   "execution_count": 0,
   "metadata": {
    "application/vnd.databricks.v1+cell": {
     "cellMetadata": {
      "byteLimit": 2048000,
      "rowLimit": 10000
     },
     "inputWidgets": {},
     "nuid": "1b87526d-af98-47a1-84f5-48a394ba90bb",
     "showTitle": false,
     "tableResultSettingsMap": {},
     "title": ""
    }
   },
   "outputs": [
    {
     "output_type": "display_data",
     "data": {
      "text/html": [
       "<style scoped>\n",
       "  .table-result-container {\n",
       "    max-height: 300px;\n",
       "    overflow: auto;\n",
       "  }\n",
       "  table, th, td {\n",
       "    border: 1px solid black;\n",
       "    border-collapse: collapse;\n",
       "  }\n",
       "  th, td {\n",
       "    padding: 5px;\n",
       "  }\n",
       "  th {\n",
       "    text-align: left;\n",
       "  }\n",
       "</style><div class='table-result-container'><table class='table-result'><thead style='background-color: white'><tr><th>supplierID</th><th>name</th><th>ingredient</th><th>continent</th><th>city</th><th>district</th><th>size</th><th>longitude</th><th>latitude</th><th>approved</th></tr></thead><tbody><tr><td>4000023</td><td>Fennel Fields</td><td>fennel seeds</td><td>Europe</td><td>Florence</td><td>Santo Spirito</td><td>L</td><td>11.2558</td><td>43.7695</td><td>Y</td></tr></tbody></table></div>"
      ]
     },
     "metadata": {
      "application/vnd.databricks.v1+output": {
       "addedWidgets": {},
       "aggData": [],
       "aggError": "",
       "aggOverflow": false,
       "aggSchema": [],
       "aggSeriesLimitReached": false,
       "aggType": "",
       "arguments": {},
       "columnCustomDisplayInfos": {},
       "data": [
        [
         4000023,
         "Fennel Fields",
         "fennel seeds",
         "Europe",
         "Florence",
         "Santo Spirito",
         "L",
         11.2558,
         43.7695,
         "Y"
        ]
       ],
       "datasetInfos": [],
       "dbfsResultPath": null,
       "isJsonSchema": true,
       "metadata": {},
       "overflow": false,
       "plotOptions": {
        "customPlotOptions": {},
        "displayType": "table",
        "pivotAggregation": null,
        "pivotColumns": null,
        "xColumns": null,
        "yColumns": null
       },
       "removedWidgets": [],
       "schema": [
        {
         "metadata": "{}",
         "name": "supplierID",
         "type": "\"long\""
        },
        {
         "metadata": "{}",
         "name": "name",
         "type": "\"string\""
        },
        {
         "metadata": "{}",
         "name": "ingredient",
         "type": "\"string\""
        },
        {
         "metadata": "{}",
         "name": "continent",
         "type": "\"string\""
        },
        {
         "metadata": "{}",
         "name": "city",
         "type": "\"string\""
        },
        {
         "metadata": "{}",
         "name": "district",
         "type": "\"string\""
        },
        {
         "metadata": "{}",
         "name": "size",
         "type": "\"string\""
        },
        {
         "metadata": "{}",
         "name": "longitude",
         "type": "\"double\""
        },
        {
         "metadata": "{}",
         "name": "latitude",
         "type": "\"double\""
        },
        {
         "metadata": "{}",
         "name": "approved",
         "type": "\"string\""
        }
       ],
       "type": "table"
      }
     },
     "output_type": "display_data"
    }
   ],
   "source": [
    "from pyspark.sql.functions import col\n",
    "\n",
    "# Order the DataFrame by 'latitude' in descending order and drop duplicate latitudes\n",
    "source = source.orderBy(col(\"latitude\").desc()).dropDuplicates([\"latitude\"])\n",
    "\n",
    "# Get the 4th highest latitude city\n",
    "fourth_highest_latitude_city = source.limit(4).orderBy(col(\"latitude\").asc()).limit(1)\n",
    "\n",
    "# Display the result\n",
    "display(fourth_highest_latitude_city)"
   ]
  },
  {
   "cell_type": "markdown",
   "metadata": {
    "application/vnd.databricks.v1+cell": {
     "cellMetadata": {},
     "inputWidgets": {},
     "nuid": "0ad84fe2-cfa4-4201-be6a-dd4f55941e35",
     "showTitle": false,
     "tableResultSettingsMap": {},
     "title": ""
    }
   },
   "source": []
  }
 ],
 "metadata": {
  "application/vnd.databricks.v1+notebook": {
   "computePreferences": null,
   "dashboards": [],
   "environmentMetadata": {
    "base_environment": "",
    "environment_version": "2"
   },
   "inputWidgetPreferences": null,
   "language": "python",
   "notebookMetadata": {
    "pythonIndentUnit": 4
   },
   "notebookName": "Data manipulation",
   "widgets": {}
  },
  "language_info": {
   "name": "python"
  }
 },
 "nbformat": 4,
 "nbformat_minor": 0
}